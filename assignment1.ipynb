{
 "cells": [
  {
   "cell_type": "code",
   "execution_count": 1,
   "id": "7f5d7bf6-aabf-4cad-b2d8-a9d64e8fb752",
   "metadata": {},
   "outputs": [
    {
     "name": "stdout",
     "output_type": "stream",
     "text": [
      "----- Values vs Expressions -----\n",
      "\n",
      "Values:\n",
      "- 'hello'  (string)\n",
      "- -87.8   (float)\n",
      "- 6       (integer)\n",
      "\n",
      "Expressions:\n",
      "- *       (multiplication operator)\n",
      "- -       (subtraction/unary operator)\n",
      "- /       (division operator)\n",
      "- +       (addition operator)\n",
      "\n",
      "---------------------------------\n"
     ]
    }
   ],
   "source": [
    "#question 1: \n",
    "# Categorizing elements as values or expressions\n",
    "#answer :\n",
    "print(\"----- Values vs Expressions -----\\n\")\n",
    "\n",
    "# Values (data)\n",
    "print(\"Values:\")\n",
    "print(\"- 'hello'  (string)\")\n",
    "print(\"- -87.8   (float)\")\n",
    "print(\"- 6       (integer)\\n\")\n",
    "\n",
    "# Expressions (operations)\n",
    "print(\"Expressions:\")\n",
    "print(\"- *       (multiplication operator)\")\n",
    "print(\"- -       (subtraction/unary operator)\") \n",
    "print(\"- /       (division operator)\")\n",
    "print(\"- +       (addition operator)\")\n",
    "\n",
    "print(\"\\n---------------------------------\")"
   ]
  },
  {
   "cell_type": "code",
   "execution_count": 2,
   "id": "326295e8-7842-4de5-91c0-907d8b820d9b",
   "metadata": {},
   "outputs": [
    {
     "name": "stdout",
     "output_type": "stream",
     "text": [
      "my name is aayush\n",
      "12\n"
     ]
    }
   ],
   "source": [
    "#Question 2 : difference between String & Variables\n",
    "#answer :\n",
    "##String: #A string is a data type used in programming to represent text. It is a sequence of characters enclosed in quotes (single or double).\n",
    "##Variable : A variable is a named storage location in memory that holds a value. The value can be of any data type, including strings, integers, floats, lists, etc.\n",
    "\n",
    "# Example code demonstrating string and variable\n",
    "greeting = \"my name is aayush\" \n",
    "number = 12 \n",
    "\n",
    "print(greeting)\n",
    "print(number)"
   ]
  },
  {
   "cell_type": "code",
   "execution_count": 3,
   "id": "df41ae04-adf5-4f34-b55d-b1e0e41fb845",
   "metadata": {},
   "outputs": [
    {
     "name": "stdout",
     "output_type": "stream",
     "text": [
      "Age: 12\n",
      "Price: 734.6\n",
      "Name: Ayush\n"
     ]
    }
   ],
   "source": [
    "#Question 3 : different data types\n",
    "#answer :\n",
    "# Integer : An integer is a whole number that can be positive, negative, or zero. It does not have any decimal points.\n",
    "age = 12\n",
    "print(\"Age:\", age)\n",
    "\n",
    "# Float : A float (floating-point number) is a data type that represents real numbers and can contain decimal points. It is used for more precise calculations.\n",
    "price = 734.6\n",
    "print(\"Price:\", price)\n",
    "\n",
    "# String : A string is a sequence of characters enclosed in quotes (single or double). It is used to represent text.\n",
    "name = \"Ayush\"\n",
    "print(\"Name:\", name) "
   ]
  },
  {
   "cell_type": "code",
   "execution_count": 4,
   "id": "c770e5b7-cbb2-441c-947a-3942fab30a18",
   "metadata": {},
   "outputs": [
    {
     "name": "stdout",
     "output_type": "stream",
     "text": [
      "Arithmetic Expression Result: 13\n",
      "Comparison Expression Result: True\n",
      "String Concatenation Result: My assignment|\n"
     ]
    }
   ],
   "source": [
    "#Question 4 : What is an expression made up of? What do all expressions do?\n",
    "#answer :\n",
    "\n",
    "##An **expression** is a combination of values, variables, operators, and functions that can be evaluated to produce a result.\n",
    "\n",
    "## Components of an Expression: \n",
    "#1. **Values**: Constants or literals (e.g., `5`, `\"Hello\"`).\n",
    "#2. **Variables**: Named storage locations (e.g., `x`, `age`).\n",
    "#3. **Operators**: Symbols for operations (e.g., `+`, `-`, `*`, `/`).\n",
    "#4. **Functions**: Predefined or user-defined operations (e.g., `len()`, `max()`).\n",
    "\n",
    "## What Expressions Do:\n",
    "#- **Evaluate to a Value**: Produce a single result (e.g., `3 + 5` evaluates to `8`).\n",
    "#- **Perform Calculations**: Execute mathematical operations.\n",
    "#- **Return Boolean Values**: Yield True or False (e.g., `10 > 5` is `True`).\n",
    "#- **Manipulate Data**: Combine or modify data (e.g., string concatenation).\n",
    "\n",
    "# Example of expressions\n",
    "\n",
    "# Arithmetic expression\n",
    "result = 3 + 5 * 2 \n",
    "print(\"Arithmetic Expression Result:\", result)\n",
    "\n",
    "# Comparison expression\n",
    "is_greater = 10 > 5  \n",
    "print(\"Comparison Expression Result:\", is_greater)\n",
    "\n",
    "# String concatenation expression\n",
    "greeting = \"My \" + \"assignment|\"  \n",
    "print(\"String Concatenation Result:\", greeting)"
   ]
  },
  {
   "cell_type": "code",
   "execution_count": 5,
   "id": "1d56e803-6991-45da-a2c4-ef7b131feab7",
   "metadata": {},
   "outputs": [
    {
     "name": "stdout",
     "output_type": "stream",
     "text": [
      "Expression Result: 7\n",
      "Value of spam: 10\n"
     ]
    }
   ],
   "source": [
    "#Question 5 : This assignment statements, like spam = 10. What is the difference between an expression and a statement?\n",
    "#answer : # Difference Between Expression and Statement\n",
    "\n",
    "## Expression:\n",
    "#- An **expression** is a combination of values, variables, operators, and functions that can be evaluated to produce a value.\n",
    "#- Expressions always return a value when evaluated.\n",
    "#- **Examples**:\n",
    "  #- Arithmetic: `4 + 5`\n",
    "  #- Comparison: `10 > 5`\n",
    "  #- String concatenation: `\"Hello, \" + \"World!\"`\n",
    "\n",
    "## Statement:\n",
    "#- A **statement** is a complete instruction that performs an action but does not return a value.\n",
    "#- Statements can include expressions, but they are not evaluated to produce a value themselves.\n",
    "#- **Examples**:\n",
    "#  - Assignment: `spam = 10` (This assigns the value `10` to the variable `spam`.)\n",
    "#  - Control flow: `if spam > 5: print(\"Spam is greater than 5\")`\n",
    "#  - Function definition: `def my_function(): pass`\n",
    "\n",
    "## Key Differences:\n",
    "#- **Evaluation**: Expressions evaluate to a value; statements do not.\n",
    "#- **Purpose**: Expressions compute values; statements perform actions.\n",
    "# Example of an expression\n",
    "result = 3 + 4  \n",
    "print(\"Expression Result:\", result)\n",
    "\n",
    "# Example of a statement\n",
    "spam = 10  \n",
    "print(\"Value of spam:\", spam)\n"
   ]
  },
  {
   "cell_type": "code",
   "execution_count": 6,
   "id": "1f41f120-c456-427b-aba5-5cae1d4d3d08",
   "metadata": {},
   "outputs": [
    {
     "name": "stdout",
     "output_type": "stream",
     "text": [
      "Value of bacon: 22\n"
     ]
    }
   ],
   "source": [
    "# Question 6 : After running the following code, what does the variable bacon contain?\n",
    "#bacon = 22\n",
    "#bacon + 1\n",
    "#Answer: \n",
    "bacon = 22\n",
    "bacon + 1  \n",
    "print(\"Value of bacon:\", bacon)  "
   ]
  },
  {
   "cell_type": "code",
   "execution_count": 7,
   "id": "6fb07fea-77f2-40ed-8907-f9d3672286c1",
   "metadata": {},
   "outputs": [
    {
     "data": {
      "text/plain": [
       "'spamspamspam'"
      ]
     },
     "execution_count": 7,
     "metadata": {},
     "output_type": "execute_result"
    }
   ],
   "source": [
    "#Question 7 : What should the values of the following two terms be?\n",
    "'spam' + 'spamspam'\n",
    "'spam' * 3\n",
    "#answer : "
   ]
  },
  {
   "cell_type": "code",
   "execution_count": 8,
   "id": "9bb72259-f361-4753-b423-39b58fa08cfb",
   "metadata": {},
   "outputs": [
    {
     "name": "stdout",
     "output_type": "stream",
     "text": [
      "Value of eggs: 100\n"
     ]
    }
   ],
   "source": [
    "#Question 8: Why is eggs a valid variable name while 100 is invalid?\n",
    "#answer:\n",
    "# Variable Naming Rules\n",
    "#In programming, variable names must follow certain rules:\n",
    "\n",
    "#1. **Must Start with a Letter or Underscore**: A variable name must begin with a letter (a-z, A-Z) or an underscore (_). It cannot start with a digit.\n",
    "#2. **Can Contain Letters, Digits, and Underscores**: After the first character, a variable name can include letters, digits, and underscores.\n",
    "#3. **Case Sensitivity**: Variable names are case-sensitive.\n",
    "#4. **No Special Characters or Spaces**: Variable names cannot contain spaces or special characters.\n",
    "#5. **Cannot be a Reserved Keyword**: Variable names cannot be the same as reserved keywords.\n",
    "\n",
    "## Examples:\n",
    "#- **Valid Variable Name**: `eggs`\n",
    "#- **Invalid Variable Name**: `100`\n",
    "# Example code to demonstrate variable naming\n",
    "eggs = 100 \n",
    "print(\"Value of eggs:\", eggs) "
   ]
  },
  {
   "cell_type": "code",
   "execution_count": 9,
   "id": "a47025ee-c147-4710-a9ff-28032f259f0e",
   "metadata": {},
   "outputs": [
    {
     "name": "stdout",
     "output_type": "stream",
     "text": [
      "Integer Value: 12\n",
      "Floating Value: 7.0\n",
      "String Value: 40\n"
     ]
    }
   ],
   "source": [
    "#Question 9: What three functions can be used to get the integer, floating-point number, or string version of a value?\n",
    "# Example code for type conversion\n",
    "integer_value = int(12.14)  # Converts float to int\n",
    "floating_value = float(7)   # Converts int to float\n",
    "string_value = str(40)      # Converts int to string\n",
    "\n",
    "# Print the results\n",
    "print(\"Integer Value:\", integer_value)     \n",
    "print(\"Floating Value:\", floating_value)     \n",
    "print(\"String Value:\", string_value)         \n"
   ]
  },
  {
   "cell_type": "code",
   "execution_count": 10,
   "id": "c75ca969-a7c2-4805-aae2-161dfd30ef7f",
   "metadata": {},
   "outputs": [
    {
     "data": {
      "text/plain": [
       "'I have eaten 99 burritos.'"
      ]
     },
     "execution_count": 10,
     "metadata": {},
     "output_type": "execute_result"
    }
   ],
   "source": [
    "#Question 10 : Why does this expression cause an error? How can you fix it? 'I have eaten' + 99 + 'burritos.'\n",
    "#answer:\n",
    "# Fixing Concatenation Error in Python\n",
    "#The expression `'I have eaten' + 99 + 'burritos.'` causes an error because you cannot concatenate a string with an integer.\n",
    "\n",
    "## Error Explanation:\n",
    "#- The expression tries to concatenate a string with an integer, which raises a `TypeError`.\n",
    "\n",
    "## How to Fix It:\n",
    "#To fix this error, convert the integer to a string using the `str()` function.\n",
    "\n",
    "### Corrected Expression:\n",
    "'I have eaten ' + str(99) + ' burritos.'"
   ]
  },
  {
   "cell_type": "code",
   "execution_count": null,
   "id": "aac46550-c654-49fb-a985-02450ffce865",
   "metadata": {},
   "outputs": [],
   "source": []
  }
 ],
 "metadata": {
  "kernelspec": {
   "display_name": "Python [conda env:base] *",
   "language": "python",
   "name": "conda-base-py"
  },
  "language_info": {
   "codemirror_mode": {
    "name": "ipython",
    "version": 3
   },
   "file_extension": ".py",
   "mimetype": "text/x-python",
   "name": "python",
   "nbconvert_exporter": "python",
   "pygments_lexer": "ipython3",
   "version": "3.13.5"
  }
 },
 "nbformat": 4,
 "nbformat_minor": 5
}
